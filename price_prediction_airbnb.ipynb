{
  "nbformat": 4,
  "nbformat_minor": 0,
  "metadata": {
    "colab": {
      "name": "price_prediction_airbnb.ipynb",
      "provenance": [],
      "collapsed_sections": []
    },
    "kernelspec": {
      "name": "python3",
      "display_name": "Python 3"
    }
  },
  "cells": [
    {
      "cell_type": "code",
      "metadata": {
        "id": "WNt6uzsW-LQo"
      },
      "source": [
        "import numpy as np\n",
        "import pandas as pd\n",
        "import matplotlib.pyplot as plt\n",
        "from sklearn.linear_model import LinearRegression\n",
        "from sklearn.linear_model import Ridge\n",
        "from sklearn.linear_model import Lasso\n",
        "from sklearn.linear_model import ElasticNet\n",
        "from sklearn.metrics import r2_score\n",
        "from sklearn.model_selection import train_test_split\n",
        "from sklearn.metrics import mean_squared_error\n",
        "from math import sqrt\n",
        "from scipy import stats\n",
        "import seaborn as sns"
      ],
      "execution_count": null,
      "outputs": []
    },
    {
      "cell_type": "code",
      "metadata": {
        "id": "d-rhvUzR-egB"
      },
      "source": [
        "df=pd.read_csv('development.csv')"
      ],
      "execution_count": null,
      "outputs": []
    },
    {
      "cell_type": "code",
      "metadata": {
        "id": "j47m4fdzrQQ7"
      },
      "source": [
        "df"
      ],
      "execution_count": null,
      "outputs": []
    },
    {
      "cell_type": "code",
      "metadata": {
        "id": "uNaCnAQCsL2u"
      },
      "source": [
        "df.describe()"
      ],
      "execution_count": null,
      "outputs": []
    },
    {
      "cell_type": "code",
      "metadata": {
        "id": "AXvbc4bSolKC"
      },
      "source": [
        "df.isna().sum().sum()"
      ],
      "execution_count": null,
      "outputs": []
    },
    {
      "cell_type": "code",
      "metadata": {
        "id": "BfSU_1cuyftw"
      },
      "source": [
        "#make a new column of counts of unique host_ids\n",
        "adf=df.host_id.value_counts().reset_index(name='countIn')\n",
        "adf=adf.rename(columns={'index': 'host_id'})\n",
        "df=pd.merge(df, adf, on='host_id')"
      ],
      "execution_count": null,
      "outputs": []
    },
    {
      "cell_type": "code",
      "metadata": {
        "id": "p5-18-8OqqAN"
      },
      "source": [
        "#replace null values with 0\n",
        "df=df.fillna(0)"
      ],
      "execution_count": null,
      "outputs": []
    },
    {
      "cell_type": "code",
      "metadata": {
        "id": "nPZ8aHAxhDsZ"
      },
      "source": [
        "#selecting relevant columns\n",
        "df=df[[\n",
        "       'room_type','price',\n",
        "       'minimum_nights', \n",
        "        'calculated_host_listings_count',\n",
        "       'availability_365','number_of_reviews','countIn']]"
      ],
      "execution_count": null,
      "outputs": []
    },
    {
      "cell_type": "code",
      "metadata": {
        "id": "EkzilN7AhWNw"
      },
      "source": [
        "#deleting rows with price =0\n",
        "df=(df[df['price']>0])\n"
      ],
      "execution_count": null,
      "outputs": []
    },
    {
      "cell_type": "code",
      "metadata": {
        "id": "BN6jzruxjQ5y"
      },
      "source": [
        "#drop duplicates if any\n",
        "df.drop_duplicates"
      ],
      "execution_count": null,
      "outputs": []
    },
    {
      "cell_type": "code",
      "metadata": {
        "id": "5dYevOvAOtzB"
      },
      "source": [
        "plt.figure(figsize=(5,5))\n",
        "ax = sns.histplot(x=\"number_of_reviews\",data=df,binwidth=20, stat=\"probability\",cumulative=True)\n",
        "ax.set_xlim(0,df['number_of_reviews'].max())\n",
        "ax.set_title(\"Dist. of price\")"
      ],
      "execution_count": null,
      "outputs": []
    },
    {
      "cell_type": "code",
      "metadata": {
        "id": "V0ZW1_x1scE5"
      },
      "source": [
        "plt.figure(figsize=(5,5))\n",
        "\n",
        "ax = sns.histplot(x=\"availability_365\",data=df,binwidth=20, stat=\"probability\",cumulative=True)\n",
        "ax.set_xlim(0,500)\n",
        "ax.set_title(\"Dist. availability_365\")"
      ],
      "execution_count": null,
      "outputs": []
    },
    {
      "cell_type": "code",
      "metadata": {
        "id": "sg6TI4yWQ1wq"
      },
      "source": [
        "#Removing outliers from the dataset\n",
        "df= df[(df[\"minimum_nights\"] < 30) & (df[\"price\"] < 500) & (df[\"availability_365\"] < 365)& (df[\"number_of_reviews\"] < 100) ]"
      ],
      "execution_count": null,
      "outputs": []
    },
    {
      "cell_type": "code",
      "metadata": {
        "id": "fryq8waCVGs6"
      },
      "source": [
        "\n",
        "#One hot encoding for rootype column\n",
        "one_hot = pd.get_dummies(df['room_type'])\n",
        "df = df.drop('room_type',axis = 1)\n",
        "# Join the encoded df\n",
        "df = df.join(one_hot)\n",
        "df"
      ],
      "execution_count": null,
      "outputs": []
    },
    {
      "cell_type": "code",
      "metadata": {
        "id": "zjsACGsSqAk3"
      },
      "source": [
        "df"
      ],
      "execution_count": null,
      "outputs": []
    },
    {
      "cell_type": "code",
      "metadata": {
        "id": "b5Y9zCH1VxlF"
      },
      "source": [
        "df.reset_index(drop='inplace')\n"
      ],
      "execution_count": null,
      "outputs": []
    },
    {
      "cell_type": "code",
      "metadata": {
        "colab": {
          "base_uri": "https://localhost:8080/"
        },
        "id": "1CwWZMZbY6J8",
        "outputId": "98db7243-f085-456c-e7d5-deeacd2b6077"
      },
      "source": [
        "predictors=df.columns.tolist()\n",
        "predictors.remove('price')\n",
        "print(len(predictors))"
      ],
      "execution_count": null,
      "outputs": [
        {
          "output_type": "stream",
          "name": "stdout",
          "text": [
            "8\n"
          ]
        }
      ]
    },
    {
      "cell_type": "code",
      "metadata": {
        "colab": {
          "base_uri": "https://localhost:8080/"
        },
        "id": "ZChSIWWutwTM",
        "outputId": "e057451a-df40-4453-d636-d2e495b3eea9"
      },
      "source": [
        "from sklearn.model_selection import train_test_split\n",
        "target_column = ['price']\n",
        "\n",
        "X = df[predictors].values\n",
        "y = df[target_column].values\n",
        "X_train, X_test, y_train, y_test = train_test_split(X, y, test_size=0.20,random_state=2)\n",
        "print(X_train.shape); print(X_test.shape)"
      ],
      "execution_count": null,
      "outputs": [
        {
          "output_type": "stream",
          "name": "stdout",
          "text": [
            "(25247, 8)\n",
            "(6312, 8)\n"
          ]
        }
      ]
    },
    {
      "cell_type": "code",
      "metadata": {
        "id": "Y-D-7qb7HW_C",
        "colab": {
          "base_uri": "https://localhost:8080/"
        },
        "outputId": "df633496-910c-4101-930e-de5af44d8684"
      },
      "source": [
        "#linear regression\n",
        "from sklearn.linear_model import LinearRegression\n",
        "reg=LinearRegression()\n",
        "reg.fit(X_train,y_train)\n",
        "\n",
        "y_pred = reg.predict(X_test)\n",
        "rmse_train = np.sqrt(mean_squared_error(y_test,y_pred))\n",
        "r2_train = r2_score(y_test,y_pred)\n",
        "print('Residual Error (MSE):',rmse_train)\n",
        "print('Mean Absolute error:',r2_train)\n"
      ],
      "execution_count": null,
      "outputs": [
        {
          "output_type": "stream",
          "name": "stdout",
          "text": [
            "Residual Error (MSE): 68.28661443478246\n",
            "Mean Absolute error: 0.34098554646485413\n"
          ]
        }
      ]
    },
    {
      "cell_type": "code",
      "metadata": {
        "colab": {
          "base_uri": "https://localhost:8080/"
        },
        "id": "9yIHIs6SWiv6",
        "outputId": "acf0adb7-7f99-41e8-bf32-7046a1cee1db"
      },
      "source": [
        "\n",
        "\n",
        "#Ridge regressions\n",
        "rr = Ridge(alpha=1.0)\n",
        "rr.fit(X_train, y_train) \n",
        "pred_train_rr= rr.predict(X_train)\n",
        "print(np.sqrt(mean_squared_error(y_train,pred_train_rr)))\n",
        "print(r2_score(y_train, pred_train_rr))\n",
        "\n",
        "pred_test_rr= rr.predict(X_test)\n",
        "print(np.sqrt(mean_squared_error(y_test,pred_test_rr))) \n",
        "print(r2_score(y_test, pred_test_rr))\n"
      ],
      "execution_count": null,
      "outputs": [
        {
          "output_type": "stream",
          "name": "stdout",
          "text": [
            "68.44283748484283\n",
            "0.3489341527325841\n",
            "68.28649897412343\n",
            "0.3409877750181193\n"
          ]
        }
      ]
    }
  ]
}